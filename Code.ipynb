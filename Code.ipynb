{
  "nbformat": 4,
  "nbformat_minor": 0,
  "metadata": {
    "colab": {
      "name": "Code.ipynb",
      "provenance": []
    },
    "kernelspec": {
      "name": "python3",
      "display_name": "Python 3"
    },
    "language_info": {
      "name": "python"
    },
    "accelerator": "GPU"
  },
  "cells": [
    {
      "cell_type": "code",
      "source": [
        "%tensorflow_version 2.7"
      ],
      "metadata": {
        "colab": {
          "base_uri": "https://localhost:8080/"
        },
        "id": "XR0MMOO8oGtU",
        "outputId": "92cfc50d-732d-4a73-c0cf-95f18213b608"
      },
      "execution_count": null,
      "outputs": [
        {
          "output_type": "stream",
          "name": "stdout",
          "text": [
            "`%tensorflow_version` only switches the major version: 1.x or 2.x.\n",
            "You set: `2.7`. This will be interpreted as: `2.x`.\n",
            "\n",
            "\n",
            "TensorFlow 2.x selected.\n"
          ]
        }
      ]
    },
    {
      "cell_type": "code",
      "source": [
        "import tensorflow as tf\n",
        "from tensorflow.keras.models import Sequential\n",
        "from tensorflow.keras.layers import Dense, Flatten, Dropout, Conv2D, MaxPooling2D\n",
        "from tensorflow.keras.preprocessing.image import ImageDataGenerator\n",
        "from tensorflow.keras import regularizers\n",
        "from tensorflow.keras.callbacks import EarlyStopping"
      ],
      "metadata": {
        "id": "nFEx8NXQ_Sr8"
      },
      "execution_count": null,
      "outputs": []
    },
    {
      "cell_type": "code",
      "source": [
        "# Data Manipulation\n",
        "import numpy as np\n",
        "import pandas as pd\n",
        "# Visualisation\n",
        "import matplotlib.pyplot as plt\n",
        "# Dataset exploring\n",
        "import os\n",
        "# Dataset generation\n",
        "from keras.preprocessing.image import ImageDataGenerator\n",
        "# Transfert learning\n",
        "from tensorflow.keras.applications import VGG16\n",
        "# Optimizer\n",
        "from tensorflow.keras.optimizers import Adam\n",
        "# Keras layers\n",
        "from tensorflow.keras.layers import Input, Dense, Dropout, Flatten, AveragePooling2D\n",
        "# Keras model\n",
        "from keras.models import Model"
      ],
      "metadata": {
        "id": "ENt0_yAZOHCf"
      },
      "execution_count": null,
      "outputs": []
    },
    {
      "cell_type": "code",
      "execution_count": null,
      "metadata": {
        "id": "d1ZQr6_TP3Iv",
        "colab": {
          "base_uri": "https://localhost:8080/"
        },
        "outputId": "e249e740-1817-4d8e-944c-a0666c751776"
      },
      "outputs": [
        {
          "output_type": "stream",
          "name": "stdout",
          "text": [
            "Found 2770 images belonging to 3 classes.\n",
            "Found 553 images belonging to 3 classes.\n",
            "Downloading data from https://storage.googleapis.com/tensorflow/keras-applications/vgg16/vgg16_weights_tf_dim_ordering_tf_kernels_notop.h5\n",
            "58892288/58889256 [==============================] - 0s 0us/step\n",
            "58900480/58889256 [==============================] - 0s 0us/step\n",
            "Model: \"vgg16\"\n",
            "_________________________________________________________________\n",
            " Layer (type)                Output Shape              Param #   \n",
            "=================================================================\n",
            " input_1 (InputLayer)        [(None, 256, 256, 3)]     0         \n",
            "                                                                 \n",
            " block1_conv1 (Conv2D)       (None, 256, 256, 64)      1792      \n",
            "                                                                 \n",
            " block1_conv2 (Conv2D)       (None, 256, 256, 64)      36928     \n",
            "                                                                 \n",
            " block1_pool (MaxPooling2D)  (None, 128, 128, 64)      0         \n",
            "                                                                 \n",
            " block2_conv1 (Conv2D)       (None, 128, 128, 128)     73856     \n",
            "                                                                 \n",
            " block2_conv2 (Conv2D)       (None, 128, 128, 128)     147584    \n",
            "                                                                 \n",
            " block2_pool (MaxPooling2D)  (None, 64, 64, 128)       0         \n",
            "                                                                 \n",
            " block3_conv1 (Conv2D)       (None, 64, 64, 256)       295168    \n",
            "                                                                 \n",
            " block3_conv2 (Conv2D)       (None, 64, 64, 256)       590080    \n",
            "                                                                 \n",
            " block3_conv3 (Conv2D)       (None, 64, 64, 256)       590080    \n",
            "                                                                 \n",
            " block3_pool (MaxPooling2D)  (None, 32, 32, 256)       0         \n",
            "                                                                 \n",
            " block4_conv1 (Conv2D)       (None, 32, 32, 512)       1180160   \n",
            "                                                                 \n",
            " block4_conv2 (Conv2D)       (None, 32, 32, 512)       2359808   \n",
            "                                                                 \n",
            " block4_conv3 (Conv2D)       (None, 32, 32, 512)       2359808   \n",
            "                                                                 \n",
            " block4_pool (MaxPooling2D)  (None, 16, 16, 512)       0         \n",
            "                                                                 \n",
            " block5_conv1 (Conv2D)       (None, 16, 16, 512)       2359808   \n",
            "                                                                 \n",
            " block5_conv2 (Conv2D)       (None, 16, 16, 512)       2359808   \n",
            "                                                                 \n",
            " block5_conv3 (Conv2D)       (None, 16, 16, 512)       2359808   \n",
            "                                                                 \n",
            " block5_pool (MaxPooling2D)  (None, 8, 8, 512)         0         \n",
            "                                                                 \n",
            "=================================================================\n",
            "Total params: 14,714,688\n",
            "Trainable params: 0\n",
            "Non-trainable params: 14,714,688\n",
            "_________________________________________________________________\n"
          ]
        }
      ],
      "source": [
        "\n",
        "\n",
        "#loading directories + data manipulation\n",
        "train_path = 'drive/MyDrive/Train'\n",
        "test_path = '/Users/ashleyc/Deeplearning/fresh_and_rotton/dataset/test'\n",
        "BATCH_SIZE = 64\n",
        "train_batches = ImageDataGenerator(\n",
        "    preprocessing_function=tf.keras.applications.vgg16.preprocess_input,\n",
        "    rescale=1/255.,\n",
        "    validation_split=0.1\n",
        ")\n",
        "train_batches=train_batches.flow_from_directory(\n",
        "    directory=train_path,\n",
        "    target_size=(256, 256),\n",
        "    classes=['Banana', 'Banana_Good', 'Banana_Bad'],\n",
        "    batch_size=BATCH_SIZE,\n",
        "    class_mode='categorical',\n",
        "    color_mode='rgb'\n",
        ")\n",
        "val_datagen = ImageDataGenerator(rescale=1./255, validation_split=0.2)\n",
        "val_data = val_datagen.flow_from_directory(train_path, \n",
        "                                           target_size=(256, 256), \n",
        "                                           color_mode='rgb',\n",
        "                                           classes=['Banana', 'Banana_Good', 'Banana_Bad'],\n",
        "                                           batch_size=BATCH_SIZE, \n",
        "                                           class_mode='categorical',\n",
        "                                           shuffle=False,\n",
        "                                           subset = 'validation')\n",
        "base_model = VGG16(weights=\"imagenet\", include_top=False, input_shape=(256,256,3))\n",
        "base_model.trainable = False ## Not trainable weights\n",
        "base_model.summary()"
      ]
    },
    {
      "cell_type": "code",
      "source": [
        "\n",
        "from tensorflow.keras import layers, models\n",
        "flatten_layer = layers.Flatten()\n",
        "dense_layer_1 = layers.Dense(50, activation='relu')\n",
        "dense_layer_2 = layers.Dense(20, activation='relu')\n",
        "prediction_layer = layers.Dense(3, activation='softmax')\n",
        "model = models.Sequential([\n",
        "    base_model,\n",
        "    flatten_layer,\n",
        "    dense_layer_1,\n",
        "    dense_layer_2,\n",
        "    prediction_layer\n",
        "])"
      ],
      "metadata": {
        "id": "sVcgI7P0QVcN"
      },
      "execution_count": null,
      "outputs": []
    },
    {
      "cell_type": "code",
      "source": [
        "model.compile(optimizer='adam',loss='categorical_crossentropy',metrics=['accuracy'],)"
      ],
      "metadata": {
        "id": "WKW__p7tA6Ju"
      },
      "execution_count": null,
      "outputs": []
    },
    {
      "cell_type": "code",
      "source": [
        "es = EarlyStopping(monitor='val_accuracy', mode='max', patience=5,  restore_best_weights=True)\n",
        "model.fit(train_batches,validation_data=val_data, epochs=20 ,callbacks=[es])"
      ],
      "metadata": {
        "colab": {
          "base_uri": "https://localhost:8080/"
        },
        "id": "uvFki1cDBY_z",
        "outputId": "77e5a75b-5867-421c-cda8-e303aaa1770e"
      },
      "execution_count": null,
      "outputs": [
        {
          "output_type": "stream",
          "name": "stdout",
          "text": [
            "Epoch 1/20\n",
            "44/44 [==============================] - 378s 8s/step - loss: 0.3682 - accuracy: 0.8736 - val_loss: 0.2615 - val_accuracy: 0.8680\n",
            "Epoch 2/20\n",
            "44/44 [==============================] - 20s 452ms/step - loss: 0.0492 - accuracy: 0.9859 - val_loss: 0.2194 - val_accuracy: 0.8969\n",
            "Epoch 3/20\n",
            "44/44 [==============================] - 20s 455ms/step - loss: 0.0173 - accuracy: 0.9964 - val_loss: 0.1433 - val_accuracy: 0.9458\n",
            "Epoch 4/20\n",
            "44/44 [==============================] - 20s 458ms/step - loss: 0.0064 - accuracy: 1.0000 - val_loss: 0.0894 - val_accuracy: 0.9638\n",
            "Epoch 5/20\n",
            "44/44 [==============================] - 20s 461ms/step - loss: 0.0031 - accuracy: 1.0000 - val_loss: 0.0950 - val_accuracy: 0.9584\n",
            "Epoch 6/20\n",
            "44/44 [==============================] - 21s 467ms/step - loss: 0.0021 - accuracy: 1.0000 - val_loss: 0.0612 - val_accuracy: 0.9837\n",
            "Epoch 7/20\n",
            "44/44 [==============================] - 21s 470ms/step - loss: 0.0015 - accuracy: 1.0000 - val_loss: 0.0710 - val_accuracy: 0.9765\n",
            "Epoch 8/20\n",
            "44/44 [==============================] - 21s 474ms/step - loss: 0.0012 - accuracy: 1.0000 - val_loss: 0.0603 - val_accuracy: 0.9819\n",
            "Epoch 9/20\n",
            "44/44 [==============================] - 21s 478ms/step - loss: 9.3728e-04 - accuracy: 1.0000 - val_loss: 0.0692 - val_accuracy: 0.9783\n",
            "Epoch 10/20\n",
            "44/44 [==============================] - 21s 480ms/step - loss: 7.6239e-04 - accuracy: 1.0000 - val_loss: 0.0657 - val_accuracy: 0.9801\n",
            "Epoch 11/20\n",
            "44/44 [==============================] - 21s 484ms/step - loss: 6.5088e-04 - accuracy: 1.0000 - val_loss: 0.0579 - val_accuracy: 0.9819\n"
          ]
        },
        {
          "output_type": "execute_result",
          "data": {
            "text/plain": [
              "<keras.callbacks.History at 0x7fa9f867dad0>"
            ]
          },
          "metadata": {},
          "execution_count": 7
        }
      ]
    }
  ]
}